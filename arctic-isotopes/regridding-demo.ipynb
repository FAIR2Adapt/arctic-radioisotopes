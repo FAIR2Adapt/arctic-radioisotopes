{
 "cells": [
  {
   "cell_type": "markdown",
   "metadata": {},
   "source": [
    "# Demo notebook: Regrid sea surface temperature data\n",
    "The data is originally on a tripolar grid to have a smooth grid over the north pole   \n",
    "We regrid it to Discrete Global Grid System (DGGS) via standard latitude-longitude grid  "
   ]
  },
  {
   "cell_type": "markdown",
   "metadata": {},
   "source": [
    "## 1. Load required libraries"
   ]
  },
  {
   "cell_type": "code",
   "execution_count": null,
   "metadata": {},
   "outputs": [],
   "source": [
    "# Install xarray-healpy and dggs libraries for regridding\n",
    "%pip install git+https://github.com/IAOCEA/xarray-healpy.git git+https://github.com/xarray-contrib/xdggs.git"
   ]
  },
  {
   "cell_type": "code",
   "execution_count": null,
   "metadata": {},
   "outputs": [],
   "source": [
    "import warnings\n",
    "from pathlib import Path\n",
    "\n",
    "import cartopy.crs as ccrs  # Map projections\n",
    "import matplotlib as mpl\n",
    "import matplotlib.pyplot as plt\n",
    "import numpy as np\n",
    "import s3fs\n",
    "import xarray as xr  # N-dimensional arrays with dimension, coordinate and attribute labels\n",
    "from data_handling import load_grid_vertex, regrid_to_dggs, standardize_variable_names\n",
    "\n",
    "warnings.simplefilter(\"ignore\", category=DeprecationWarning)\n",
    "xr.set_options(display_expand_data=False, display_expand_attrs=False, keep_attrs=True)"
   ]
  },
  {
   "cell_type": "markdown",
   "metadata": {},
   "source": [
    "## 2. Load sea surface temperature data on tripolar grid"
   ]
  },
  {
   "cell_type": "code",
   "execution_count": null,
   "metadata": {},
   "outputs": [],
   "source": [
    "# Define file paths\n",
    "endpoint_url = \"https://server-data.fair2adapt.sigma2.no\"\n",
    "tripolar_grid_data_path = \"s3://CS1/data/model/JRAOC20TRNRPv2_hm_sst_2010-01.nc\"\n",
    "\n",
    "# Extract files from S3\n",
    "client_kwargs = {\"endpoint_url\": endpoint_url}\n",
    "s3 = s3fs.S3FileSystem(anon=True, client_kwargs=client_kwargs)\n",
    "\n",
    "# Get tripolar grid data (Opening the ds typically takes a few minutes)\n",
    "ds = xr.open_dataset(s3.open(tripolar_grid_data_path))\n",
    "\n",
    "# Display the subset dataset\n",
    "ds"
   ]
  },
  {
   "cell_type": "code",
   "execution_count": null,
   "metadata": {},
   "outputs": [],
   "source": [
    "# data_path = Path(\"./CS1-nird/data/\")\n",
    "# tripolar_grid_data_path = data_path / \"model\" / \"JRAOC20TRNRPv2_hm_sst_2010-01.nc\"\n",
    "# ds = xr.open_dataset(tripolar_grid_data_path)"
   ]
  },
  {
   "cell_type": "code",
   "execution_count": null,
   "metadata": {},
   "outputs": [],
   "source": [
    "# Get grid location information\n",
    "data_path = Path(\"./CS1-nird/data/\")  # Needed to load local vairables\n",
    "# grid_file_path = data_path / \"grid\" / \"grid.nc\"\n",
    "# plat, plon, pclat, pclon = load_grid_vertex(grid_file_path)\n",
    "grid_file_path = \"s3://CS1/data/grid/grid.nc\"\n",
    "plat, plon, pclat, pclon = load_grid_vertex(s3.open(grid_file_path))\n",
    "\n",
    "# latitude and longitude variables, not dimensions\n",
    "ds = ds.assign_coords(lat=([\"y\", \"x\"], plat), lon=([\"y\", \"x\"], plon))\n",
    "ds = standardize_variable_names(ds)\n",
    "# Center the data\n",
    "ds.coords[\"longitude\"] = (ds.coords[\"longitude\"] + 180) % 360 - 180\n",
    "# ds.drop coordinates([\"plat\", \"plon\"])\n",
    "ds"
   ]
  },
  {
   "cell_type": "code",
   "execution_count": null,
   "metadata": {},
   "outputs": [],
   "source": [
    "proj = ccrs.NearsidePerspective(\n",
    "    central_longitude=0.0, central_latitude=80.0, satellite_height=3e6\n",
    ")\n",
    "fig, ax = plt.subplots(1, figsize=(8, 4.5), dpi=96, subplot_kw={\"projection\": proj})\n",
    "\n",
    "# A temperature map\n",
    "pm0 = ax.pcolormesh(\n",
    "    plon,\n",
    "    plat,\n",
    "    ds.sst[0, :, :],\n",
    "    vmin=-3,\n",
    "    vmax=20,\n",
    "    cmap=\"viridis\",\n",
    "    transform=ccrs.PlateCarree(),\n",
    "    shading=\"auto\",\n",
    "    rasterized=True,\n",
    ")\n",
    "\n",
    "\n",
    "# Add coastlines and the lat-lon grid\n",
    "ax.coastlines(resolution=\"50m\", color=\"black\", linewidth=0.5)\n",
    "ax.stock_img()\n",
    "gl = ax.gridlines(ylocs=range(15, 76, 15), draw_labels=True)\n",
    "gl.ylocator = mpl.ticker.FixedLocator([40, 50, 60, 70, 80])\n",
    "\n",
    "plt.colorbar(pm0, fraction=0.2, shrink=0.4, label=\"degC\")\n",
    "\n",
    "ax.set_title(\"Sea Surface Temperature\")\n",
    "plt.show()"
   ]
  },
  {
   "cell_type": "markdown",
   "metadata": {},
   "source": [
    "# 3. Load regridded dataset with PlateCarree grid"
   ]
  },
  {
   "cell_type": "code",
   "execution_count": null,
   "metadata": {},
   "outputs": [],
   "source": [
    "bilinear_regridded_data_path = (\n",
    "    data_path\n",
    "    / \"model\"\n",
    "    / \"JRAOC20TRNRPv2_hm_sst_2010-01_bil.nc\"  # Path to data regridded from tripolar to platecarree using regrid_tripolar_to_platecarree.sh\n",
    ")\n",
    "dr = xr.open_dataset(bilinear_regridded_data_path)"
   ]
  },
  {
   "cell_type": "code",
   "execution_count": null,
   "metadata": {},
   "outputs": [],
   "source": [
    "dr = dr.rename_dims({\"lat\": \"latitude\", \"lon\": \"longitude\"})\n",
    "dr.latitude.attrs[\"standard_name\"] = \"latitude\"\n",
    "dr.longitude.attrs[\"standard_name\"] = \"longitude\"\n",
    "dr[[\"longitude\", \"latitude\"]].compute()\n",
    "dr = dr.rename({\"lon\": \"longitude\", \"lat\": \"latitude\"})"
   ]
  },
  {
   "cell_type": "code",
   "execution_count": null,
   "metadata": {},
   "outputs": [],
   "source": [
    "dr.sst.isel(time=0).plot()"
   ]
  },
  {
   "cell_type": "code",
   "execution_count": null,
   "metadata": {},
   "outputs": [],
   "source": [
    "proj = ccrs.NearsidePerspective(\n",
    "    central_longitude=0.0, central_latitude=80.0, satellite_height=3e6\n",
    ")\n",
    "fig, ax = plt.subplots(1, figsize=(8, 4.5), dpi=96, subplot_kw={\"projection\": proj})\n",
    "\n",
    "# A temperature map\n",
    "pm0 = ax.pcolormesh(\n",
    "    dr.longitude,\n",
    "    dr.latitude,\n",
    "    dr.sst[0, :, :],\n",
    "    vmin=-3,\n",
    "    vmax=20,\n",
    "    cmap=\"viridis\",\n",
    "    transform=ccrs.PlateCarree(),\n",
    "    shading=\"auto\",\n",
    "    rasterized=True,\n",
    ")\n",
    "\n",
    "# Add coastlines and the lat-lon grid\n",
    "ax.coastlines(resolution=\"50m\", color=\"black\", linewidth=0.5)\n",
    "ax.stock_img()\n",
    "gl = ax.gridlines(ylocs=range(15, 76, 15), draw_labels=True)\n",
    "gl.ylocator = mpl.ticker.FixedLocator([40, 50, 60, 70, 80])\n",
    "\n",
    "plt.colorbar(pm0, fraction=0.2, shrink=0.4, label=\"degC\")\n",
    "\n",
    "ax.set_title(\"Sea Surface Temperature\")\n",
    "plt.show()"
   ]
  },
  {
   "cell_type": "code",
   "execution_count": null,
   "metadata": {},
   "outputs": [],
   "source": [
    "# Have a closer look at a region of interest\n",
    "lat_min, lat_max = 40, 65\n",
    "lon_min, lon_max = -15, 30\n",
    "fig, ax = plt.subplots(figsize=(6, 4))\n",
    "p = dr.sst.isel(time=0).plot(ax=ax)\n",
    "\n",
    "# Set zoom limits\n",
    "ax.set_xlim(lon_min, lon_max)\n",
    "ax.set_ylim(lat_min, lat_max)\n",
    "\n",
    "plt.show()"
   ]
  },
  {
   "cell_type": "code",
   "execution_count": null,
   "metadata": {},
   "outputs": [],
   "source": [
    "ocean_mask = ~dr.sst.isel(time=0).isnull()  # Mask land as False, ocean as True"
   ]
  },
  {
   "cell_type": "markdown",
   "metadata": {},
   "source": [
    "# Load conservatively regridded"
   ]
  },
  {
   "cell_type": "code",
   "execution_count": null,
   "metadata": {},
   "outputs": [],
   "source": [
    "conservative_regridded_dataset_path = (\n",
    "    data_path\n",
    "    / \"model\"\n",
    "    / \"JRAOC20TRNRPv2_hm_sst_2010-01_con.nc\"  # Path to data regridded from tripolar to platecarree using regrid_tripolar_to_platecarree.sh\n",
    ")\n",
    "dcon = xr.open_dataset(conservative_regridded_dataset_path)\n",
    "dcon = dcon.rename_dims({\"lat\": \"latitude\", \"lon\": \"longitude\"})\n",
    "dcon.latitude.attrs[\"standard_name\"] = \"latitude\"\n",
    "dcon.longitude.attrs[\"standard_name\"] = \"longitude\"\n",
    "dcon[[\"longitude\", \"latitude\"]].compute()\n",
    "dcon = dcon.rename({\"lon\": \"longitude\", \"lat\": \"latitude\"})\n",
    "regrid_diff = dr - dcon"
   ]
  },
  {
   "cell_type": "code",
   "execution_count": null,
   "metadata": {},
   "outputs": [],
   "source": [
    "regrid_diff.sst.isel(time=0).plot()"
   ]
  },
  {
   "cell_type": "markdown",
   "metadata": {},
   "source": [
    "# 4. Regrid from PlateCarree to Healpy DGGS"
   ]
  },
  {
   "cell_type": "code",
   "execution_count": null,
   "metadata": {},
   "outputs": [],
   "source": [
    "nside = 256  # Each side of the original 12 faces in Healpix is divided into nside parts\n",
    "healpy_grid_level = int(np.log2(nside))  # Healpix level\n",
    "number_of_cells = 12 * nside**2  # The resulting total number of cells\n",
    "\n",
    "min_vertices = 2  # Minimum number of vertices for a valid transcription for regridding.\n",
    "# 1 is the most liberal, meaning that only one is needed\n",
    "\n",
    "print(\"nside:\", nside)\n",
    "print(\"Level:\", healpy_grid_level)\n",
    "print(\"Number of cells:\", number_of_cells)\n",
    "\n",
    "regridded = regrid_to_dggs(\n",
    "    dcon, nside, min_vertices, method=\"bilinear\", mask=ocean_mask\n",
    ")\n",
    "ds_regridded = regridded.sst.compute().squeeze()"
   ]
  },
  {
   "cell_type": "code",
   "execution_count": null,
   "metadata": {},
   "outputs": [],
   "source": [
    "ds_regridded.dggs.explore()"
   ]
  },
  {
   "cell_type": "markdown",
   "metadata": {},
   "source": [
    "# 5. Save the regridded data to zarr"
   ]
  },
  {
   "cell_type": "code",
   "execution_count": null,
   "metadata": {},
   "outputs": [],
   "source": [
    "save_location = data_path / f\"SST-healpix-lvl-{healpy_grid_level}.zarr\"\n",
    "ds_regridded.to_zarr(save_location, mode=\"w\")"
   ]
  }
 ],
 "metadata": {
  "kernelspec": {
   "display_name": "esmpy-env",
   "language": "python",
   "name": "python3"
  },
  "language_info": {
   "codemirror_mode": {
    "name": "ipython",
    "version": 3
   },
   "file_extension": ".py",
   "mimetype": "text/x-python",
   "name": "python",
   "nbconvert_exporter": "python",
   "pygments_lexer": "ipython3",
   "version": "3.11.11"
  }
 },
 "nbformat": 4,
 "nbformat_minor": 2
}

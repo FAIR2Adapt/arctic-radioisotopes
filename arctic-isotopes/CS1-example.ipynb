{
 "cells": [
  {
   "cell_type": "markdown",
   "id": "44dfb8a9-74c0-4b85-8daf-0c5833d7be9f",
   "metadata": {},
   "source": [
    "# FAIR2Adapt Case Study 1\n",
    "\n",
    "## Context\n",
    "\n",
    "### Purpose\n",
    "\n",
    "The goal is to experiment with how to read NorESM data for FAIR2Adapt Case Study 1.\n",
    "\n",
    "### Description\n",
    "\n",
    "In this notebook, we will:\n",
    "- Open online NorESM data \n",
    "- Visualize one field\n",
    "\n",
    "## Contributions\n",
    "\n",
    "### Notebook\n",
    "- Anne Fouilloux, Simula Research Laboratory (Norway) (reviewer), @annefou\n",
    "\n",
    "## Bibliography and other interesting resources\n",
    "\n",
    "- [The Norwegian Earth System Model (NorESM)](https://noresm-docs.readthedocs.io/en/latest/)"
   ]
  },
  {
   "cell_type": "markdown",
   "id": "9ab646c0-01cb-4017-ba35-e4df7061079d",
   "metadata": {},
   "source": [
    "## Import Libraries"
   ]
  },
  {
   "cell_type": "code",
   "execution_count": null,
   "id": "0ff007f0-1a47-48b0-89ac-de2ec01a080c",
   "metadata": {},
   "outputs": [],
   "source": [
    "# Install xarray-healpy and dggs libraries for regridding\n",
    "#!pip install git+https://github.com/IAOCEA/xarray-healpy.git git+https://github.com/xarray-contrib/xdggs.git cmcrameri s3fs shapely"
   ]
  },
  {
   "cell_type": "code",
   "execution_count": null,
   "id": "8d3f2047-bf72-46c9-81b2-5b3c6e976166",
   "metadata": {},
   "outputs": [],
   "source": [
    "import cartopy.crs as ccrs\n",
    "import matplotlib as mpl\n",
    "import matplotlib.pyplot as plt\n",
    "import numpy as np\n",
    "import s3fs  # For accessing file storage at Amazon S3\n",
    "import xarray as xr  # N-dimensional arrays with dimension, coordinate and attribute labels\n",
    "\n",
    "xr.set_options(display_expand_data=False, display_expand_attrs=False, keep_attrs=True)"
   ]
  },
  {
   "cell_type": "markdown",
   "id": "faa61337-64d0-4b71-9aae-9c3ddcf098a5",
   "metadata": {},
   "source": [
    "## Open file with Xarray\n",
    "- The file is on the cloud (accessible to everyone)\n",
    "- The first time, opening the atmosphere ds typically takes a few minutes\n",
    "- Therefore, we save a local version with selected subset of variables for faster loading the nezxt times"
   ]
  },
  {
   "cell_type": "code",
   "execution_count": null,
   "id": "e5fe7d4a-e328-4b77-a8cc-9cdf5e0f0d7b",
   "metadata": {},
   "outputs": [],
   "source": [
    "# Define file paths\n",
    "endpoint_url = \"https://server-data.fair2adapt.sigma2.no\"\n",
    "filename_atmosphere = \"s3://CS1/data/model/JRAOC20TRNRPv2_hm_sst_2010-01.nc\"\n",
    "\n",
    "# Extract file from S3\n",
    "client_kwargs = {\"endpoint_url\": endpoint_url}\n",
    "s3 = s3fs.S3FileSystem(anon=True, client_kwargs=client_kwargs)\n",
    "\n",
    "# Opening the atmosphere ds typically takes a few minutes\n",
    "ds = xr.open_dataset(s3.open(filename_atmosphere))\n",
    "\n",
    "# Display the subset dataset\n",
    "ds"
   ]
  },
  {
   "cell_type": "markdown",
   "id": "4a746315-f8cc-4432-93aa-70f5ee1ead14",
   "metadata": {},
   "source": [
    "## Load grid"
   ]
  },
  {
   "cell_type": "code",
   "execution_count": null,
   "id": "bc66ddb8-97bb-44ad-ac59-159b2c1c303f",
   "metadata": {},
   "outputs": [],
   "source": [
    "grid_type = \"p\"\n",
    "grid_file = \"s3://CS1/data/grid/grid.nc\"\n",
    "grid = xr.open_dataset(s3.open(grid_file))\n",
    "grid"
   ]
  },
  {
   "cell_type": "markdown",
   "id": "1f23b10b-3db7-43cf-9b06-e4bafc6dedd7",
   "metadata": {},
   "source": [
    "## Assign coordinates to Xarray Dataset"
   ]
  },
  {
   "cell_type": "code",
   "execution_count": null,
   "id": "4ed03f94-82b9-4b70-baf3-07e93d70cb17",
   "metadata": {},
   "outputs": [],
   "source": [
    "ds = ds.assign_coords({\"lon\": grid[grid_type + \"lon\"]})\n",
    "ds = ds.assign_coords({\"lat\": grid[grid_type + \"lat\"]})\n",
    "ds"
   ]
  },
  {
   "cell_type": "markdown",
   "id": "24dc88d3-8962-4206-879c-584feecbecb6",
   "metadata": {},
   "source": [
    "## Quick visualization"
   ]
  },
  {
   "cell_type": "code",
   "execution_count": null,
   "id": "2ee03b80-dc75-4416-953d-b0b8a740248e",
   "metadata": {},
   "outputs": [],
   "source": [
    "var = \"sst\"\n",
    "vmin = -3\n",
    "vmax = 20\n",
    "proj = ccrs.NearsidePerspective(\n",
    "    central_longitude=0.0, central_latitude=80.0, satellite_height=3e6\n",
    ")\n",
    "fig, ax = plt.subplots(1, figsize=(8, 4.5), dpi=96, subplot_kw={\"projection\": proj})\n",
    "\n",
    "p = (\n",
    "    ds[var]\n",
    "    .isel(time=0)\n",
    "    .plot(\n",
    "        ax=ax,\n",
    "        transform=ccrs.PlateCarree(),\n",
    "        x=\"lon\",\n",
    "        y=\"lat\",\n",
    "        add_colorbar=False,\n",
    "        vmin=vmin,\n",
    "        vmax=vmax,\n",
    "        cmap=\"viridis\",\n",
    "        shading=\"auto\",\n",
    "        rasterized=True,\n",
    "    )\n",
    ")\n",
    "# Add coastlines and the lat-lon grid\n",
    "ax.coastlines(resolution=\"50m\", color=\"black\", linewidth=0.5)\n",
    "ax.stock_img()\n",
    "gl = ax.gridlines(ylocs=range(15, 76, 15), draw_labels=True)\n",
    "gl.ylocator = mpl.ticker.FixedLocator([40, 50, 60, 70, 80])\n",
    "\n",
    "plt.colorbar(p, fraction=0.2, shrink=0.4, label=\"degC\")\n",
    "\n",
    "ax.set_title(\"Sea Surface Temperature\")"
   ]
  },
  {
   "cell_type": "code",
   "execution_count": null,
   "id": "c973e1df-77c9-409b-a03c-6d28b8d23649",
   "metadata": {},
   "outputs": [],
   "source": [
    "# Define file paths\n",
    "endpoint_url = \"https://server-data.fair2adapt.sigma2.no\"\n",
    "filename_atmosphere = \"s3://CS1/data/model/JRAOC20TRNRPv2_hm_U236GF_2010-2018.nc\"\n",
    "\n",
    "# Extract file from S3\n",
    "client_kwargs = {\"endpoint_url\": endpoint_url}\n",
    "s3 = s3fs.S3FileSystem(anon=True, client_kwargs=client_kwargs)\n",
    "\n",
    "# Opening the atmosphere ds typically takes a few minutes\n",
    "ds = xr.open_dataset(s3.open(filename_atmosphere))\n",
    "\n",
    "# Display the subset dataset\n",
    "ds"
   ]
  },
  {
   "cell_type": "code",
   "execution_count": null,
   "id": "6c7866e5-deca-448a-9295-2f498aa11d45",
   "metadata": {},
   "outputs": [],
   "source": [
    "ds.U236GF"
   ]
  },
  {
   "cell_type": "code",
   "execution_count": null,
   "id": "e2e1fa11-0d10-4611-b1b6-f5219ebf7e8a",
   "metadata": {},
   "outputs": [],
   "source": [
    "def create_plot(ds, var, vmin, vmax, time=np.nan, sigma=True):\n",
    "    proj = ccrs.NearsidePerspective(\n",
    "        central_longitude=0.0, central_latitude=80.0, satellite_height=3e6\n",
    "    )\n",
    "    fig, ax = plt.subplots(1, figsize=(8, 4.5), dpi=96, subplot_kw={\"projection\": proj})\n",
    "    if time is not np.nan:\n",
    "        p = (\n",
    "            ds[var]\n",
    "            .isel(time=0)\n",
    "            .plot(\n",
    "                ax=ax,\n",
    "                transform=ccrs.PlateCarree(),\n",
    "                x=\"lon\",\n",
    "                y=\"lat\",\n",
    "                add_colorbar=False,\n",
    "                vmin=vmin,\n",
    "                vmax=vmax,\n",
    "                cmap=\"viridis\",\n",
    "                shading=\"auto\",\n",
    "                rasterized=True,\n",
    "            )\n",
    "        )\n",
    "    elif sigma:\n",
    "        p = ds[var].plot(ax=ax, add_colorbar=False, vmin=vmin, vmax=vmax)\n",
    "    else:\n",
    "        p = ds[var].plot(\n",
    "            ax=ax,\n",
    "            transform=ccrs.PlateCarree(),\n",
    "            x=\"lon\",\n",
    "            y=\"lat\",\n",
    "            add_colorbar=False,\n",
    "            vmin=vmin,\n",
    "            vmax=vmax,\n",
    "            cmap=\"viridis\",\n",
    "            shading=\"auto\",\n",
    "            rasterized=True,\n",
    "        )\n",
    "    # Add coastlines and the lat-lon grid\n",
    "    ax.coastlines(resolution=\"50m\", color=\"black\", linewidth=0.5)\n",
    "    ax.stock_img()\n",
    "    gl = ax.gridlines(ylocs=range(15, 76, 15), draw_labels=True)\n",
    "    gl.ylocator = mpl.ticker.FixedLocator([40, 50, 60, 70, 80])\n",
    "    plt.colorbar(p, fraction=0.2, shrink=0.4, label=\"degC\")\n",
    "    ax.set_title(ds[var].attrs[\"long_name\"])"
   ]
  },
  {
   "cell_type": "code",
   "execution_count": null,
   "id": "609ad4b6-19cd-4fec-a0e3-45dd9639e003",
   "metadata": {},
   "outputs": [],
   "source": [
    "var = \"U236GF\"\n",
    "vmin = ds[var].min().values\n",
    "vmax = ds[var].max().values\n",
    "print(vmin, vmax)\n",
    "# create_plot(ds, var, vmin, vmax, sigma=True)"
   ]
  },
  {
   "cell_type": "code",
   "execution_count": null,
   "id": "69d5904b-0b2f-4a9f-b4cd-8e5ab336c986",
   "metadata": {},
   "outputs": [],
   "source": [
    "# Define file paths\n",
    "endpoint_url = \"https://server-data.fair2adapt.sigma2.no\"\n",
    "filename_atmosphere = \"s3://CS1/data/model/JRAOC20TRNRPv2_hm_U236LH_2010-2018.nc\"\n",
    "\n",
    "# Extract file from S3\n",
    "client_kwargs = {\"endpoint_url\": endpoint_url}\n",
    "s3 = s3fs.S3FileSystem(anon=True, client_kwargs=client_kwargs)\n",
    "\n",
    "# Opening the atmosphere ds typically takes a few minutes\n",
    "ds = xr.open_dataset(s3.open(filename_atmosphere))\n",
    "\n",
    "# Display the subset dataset\n",
    "ds"
   ]
  },
  {
   "cell_type": "code",
   "execution_count": null,
   "id": "58bfa18c-d0c5-4a97-8d23-1d26ec9b8096",
   "metadata": {},
   "outputs": [],
   "source": [
    "ds.U236LH"
   ]
  },
  {
   "cell_type": "code",
   "execution_count": null,
   "id": "929dc368-f2a6-4653-af7c-f3f460cf5a36",
   "metadata": {},
   "outputs": [],
   "source": [
    "# Define file paths\n",
    "endpoint_url = \"https://server-data.fair2adapt.sigma2.no\"\n",
    "filename_atmosphere = \"s3://CS1/data/model/JRAOC20TRNRPv2_hm_U236PPG_2010-2018.nc\"\n",
    "\n",
    "# Extract file from S3\n",
    "client_kwargs = {\"endpoint_url\": endpoint_url}\n",
    "s3 = s3fs.S3FileSystem(anon=True, client_kwargs=client_kwargs)\n",
    "\n",
    "# Opening the atmosphere ds typically takes a few minutes\n",
    "ds = xr.open_dataset(s3.open(filename_atmosphere))\n",
    "\n",
    "# Display the subset dataset\n",
    "ds"
   ]
  },
  {
   "cell_type": "code",
   "execution_count": null,
   "id": "d2a8ceb8-ef5d-40a1-bc2b-301d747f3186",
   "metadata": {},
   "outputs": [],
   "source": [
    "ds.U236PPG"
   ]
  },
  {
   "cell_type": "code",
   "execution_count": null,
   "id": "af87e17e-8278-41cc-b411-b0c708af7f0a",
   "metadata": {},
   "outputs": [],
   "source": [
    "# Define file paths\n",
    "endpoint_url = \"https://server-data.fair2adapt.sigma2.no\"\n",
    "filename_atmosphere = \"s3://CS1/data/model/JRAOC20TRNRPv2_hm_U236SF_2010-2018.nc\"\n",
    "\n",
    "# Extract file from S3\n",
    "client_kwargs = {\"endpoint_url\": endpoint_url}\n",
    "s3 = s3fs.S3FileSystem(anon=True, client_kwargs=client_kwargs)\n",
    "\n",
    "# Opening the atmosphere ds typically takes a few minutes\n",
    "ds = xr.open_dataset(s3.open(filename_atmosphere))\n",
    "\n",
    "# Display the subset dataset\n",
    "ds"
   ]
  },
  {
   "cell_type": "code",
   "execution_count": null,
   "id": "6319ca01-d52d-46eb-b7f5-14c4298d88d4",
   "metadata": {},
   "outputs": [],
   "source": [
    "ds.U236SF"
   ]
  },
  {
   "cell_type": "code",
   "execution_count": null,
   "id": "b25e467a-185b-4339-8d1c-9cb26f3d9e69",
   "metadata": {},
   "outputs": [],
   "source": [
    "# Define file paths\n",
    "endpoint_url = \"https://server-data.fair2adapt.sigma2.no\"\n",
    "filename_atmosphere = (\n",
    "    \"s3://CS1/data/model/NSSP245frc2NRP205p2v2_hm_I129se40_205001-205912.nc\"\n",
    ")\n",
    "\n",
    "# Extract file from S3\n",
    "client_kwargs = {\"endpoint_url\": endpoint_url}\n",
    "s3 = s3fs.S3FileSystem(anon=True, client_kwargs=client_kwargs)\n",
    "\n",
    "# Opening the atmosphere ds typically takes a few minutes\n",
    "ds = xr.open_dataset(s3.open(filename_atmosphere))\n",
    "\n",
    "# Display the subset dataset\n",
    "ds"
   ]
  },
  {
   "cell_type": "code",
   "execution_count": null,
   "id": "de106724-2c56-41d3-acc5-695366470a7d",
   "metadata": {},
   "outputs": [],
   "source": [
    "ds.I129se40"
   ]
  },
  {
   "cell_type": "code",
   "execution_count": null,
   "id": "dbb8b4b1-e443-4192-a2d5-5890b47c37bd",
   "metadata": {},
   "outputs": [],
   "source": [
    "# Define file paths\n",
    "endpoint_url = \"https://server-data.fair2adapt.sigma2.no\"\n",
    "filename_atmosphere = (\n",
    "    \"s3://CS1/data/model/NSSP585frc2NRP205p2v2_hm_I129se40_205001-205912.nc\"\n",
    ")\n",
    "\n",
    "# Extract file from S3\n",
    "client_kwargs = {\"endpoint_url\": endpoint_url}\n",
    "s3 = s3fs.S3FileSystem(anon=True, client_kwargs=client_kwargs)\n",
    "\n",
    "# Opening the atmosphere ds typically takes a few minutes\n",
    "ds = xr.open_dataset(s3.open(filename_atmosphere))\n",
    "\n",
    "# Display the subset dataset\n",
    "ds"
   ]
  },
  {
   "cell_type": "code",
   "execution_count": null,
   "id": "4cbadfd8-cb1e-4f44-9f81-f1d4161564a4",
   "metadata": {},
   "outputs": [],
   "source": [
    "ds.I129se40"
   ]
  },
  {
   "cell_type": "code",
   "execution_count": null,
   "id": "644414be-0560-43c3-8a13-baea5b50eeac",
   "metadata": {},
   "outputs": [],
   "source": []
  },
  {
   "cell_type": "code",
   "execution_count": null,
   "id": "94c25a7c-fb06-483c-967d-2e45d8fa1659",
   "metadata": {},
   "outputs": [],
   "source": []
  },
  {
   "cell_type": "code",
   "execution_count": null,
   "id": "03ef91e6-a858-47c1-bd11-e12b4a4a338b",
   "metadata": {},
   "outputs": [],
   "source": []
  }
 ],
 "metadata": {
  "kernelspec": {
   "display_name": "pangeo",
   "language": "python",
   "name": "pangeo"
  },
  "language_info": {
   "codemirror_mode": {
    "name": "ipython",
    "version": 3
   },
   "file_extension": ".py",
   "mimetype": "text/x-python",
   "name": "python",
   "nbconvert_exporter": "python",
   "pygments_lexer": "ipython3",
   "version": "3.12.8"
  },
  "widgets": {
   "application/vnd.jupyter.widget-state+json": {
    "state": {},
    "version_major": 2,
    "version_minor": 0
   }
  }
 },
 "nbformat": 4,
 "nbformat_minor": 5
}

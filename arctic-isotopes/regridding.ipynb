{
 "cells": [
  {
   "cell_type": "markdown",
   "metadata": {},
   "source": [
    "# Regrid NorESM data to DGGS\n",
    "\n",
    "## Description\n",
    "\n",
    "The BLOM ocean data lives on a tripolar grid.  \n",
    "This grid is irregular: An (x,y) grid with individual latitude and longitude values for each grid point. We can use x and y as indices.  \n",
    "plat (2-dimensional, matches (x,y) grid) stores the latitude values of the points.  \n",
    "x and y are simply dimensionless coordinates in the array to coordinate latitude, longitude, and temperature, which is stored as a 2D array of the same shape as (x,y).  \n",
    "The example data in this notebook contains temperature at a single time point.  \n",
    "We use netcdf functionality to regrid it to PlateCarree and then to xdggs.  \n",
    "\n",
    "### This notebook step by step:\n",
    "\n",
    "1. Load required libraries\n",
    "2. Load sea surface temperature data on tripolar grid\n",
    "3. Load regridded dataset with PlateCarree grid\n",
    "4. Define DGGS target grid and regrid from PlateCarree to DGGS\n",
    "5. Save the regridded data to zarr\n",
    "\n",
    "## Contributions\n",
    "- Even Moa Myklebust, Simula Research Laboratory (Norway) (author), @evenmm\n",
    "- Anne Fouilloux, Simula Research Laboratory (Norway) (reviewer), @annefou\n",
    "- Ola Formo Kihle, Independent Consultant / UW Contractor (Norway) (reviewer), @ofk123\n",
    "- Yanchun He, NERSC (Norway) (provider of data and tutorial functions for loading data), @YanchunHe\n",
    "\n",
    "## Bibliography and other interesting resources\n",
    "- [The Norwegian Earth System Model (NorESM)](https://noresm-docs.readthedocs.io/en/latest/)\n",
    "- [An introduction to NorESM model output and post-processing](https://nordicesmhub.github.io/noresmdiagnostics/)"
   ]
  },
  {
   "cell_type": "markdown",
   "metadata": {},
   "source": [
    "## 1. Load required libraries"
   ]
  },
  {
   "cell_type": "code",
   "execution_count": null,
   "metadata": {},
   "outputs": [],
   "source": [
    "# Install xarray-healpy and dggs libraries for regridding\n",
    "%pip install git+https://github.com/IAOCEA/xarray-healpy.git git+https://github.com/xarray-contrib/xdggs.git"
   ]
  },
  {
   "cell_type": "code",
   "execution_count": null,
   "metadata": {},
   "outputs": [],
   "source": [
    "import warnings\n",
    "from pathlib import Path\n",
    "\n",
    "import cartopy.crs as ccrs  # Map projections\n",
    "import matplotlib as mpl\n",
    "import matplotlib.pyplot as plt\n",
    "import numpy as np\n",
    "import s3fs\n",
    "import xarray as xr  # N-dimensional arrays with dimension, coordinate and attribute labels\n",
    "\n",
    "warnings.simplefilter(\"ignore\", category=DeprecationWarning)\n",
    "xr.set_options(display_expand_data=False, display_expand_attrs=False, keep_attrs=True)"
   ]
  },
  {
   "cell_type": "code",
   "execution_count": null,
   "metadata": {},
   "outputs": [],
   "source": [
    "# Local imports\n",
    "from data_handling import load_grid_vertex, regrid_to_dggs, standardize_variable_names"
   ]
  },
  {
   "cell_type": "markdown",
   "metadata": {},
   "source": [
    "## 2. Load sea surface temperature data on tripolar grid"
   ]
  },
  {
   "cell_type": "code",
   "execution_count": null,
   "metadata": {},
   "outputs": [],
   "source": [
    "# Define file paths\n",
    "endpoint_url = \"https://server-data.fair2adapt.sigma2.no\"\n",
    "tripolar_grid_data_path = \"s3://CS1/data/model/JRAOC20TRNRPv2_hm_sst_2010-01.nc\"\n",
    "\n",
    "# Extract files from S3\n",
    "client_kwargs = {\"endpoint_url\": endpoint_url}\n",
    "s3 = s3fs.S3FileSystem(anon=True, client_kwargs=client_kwargs)\n",
    "\n",
    "# Get tripolar grid data (Opening the ds typically takes a few minutes)\n",
    "ds = xr.open_dataset(s3.open(tripolar_grid_data_path))\n",
    "\n",
    "# Display the subset dataset\n",
    "ds"
   ]
  },
  {
   "cell_type": "code",
   "execution_count": null,
   "metadata": {},
   "outputs": [],
   "source": [
    "# Get grid location information\n",
    "grid_file_path = \"s3://CS1/data/grid/grid.nc\"\n",
    "plat, plon, pclat, pclon = load_grid_vertex(s3.open(grid_file_path))"
   ]
  },
  {
   "cell_type": "code",
   "execution_count": null,
   "metadata": {},
   "outputs": [],
   "source": [
    "# Plot plat and plon to visualize the grid\n",
    "\n",
    "plt.subplot(1, 2, 1)\n",
    "plt.imshow(plat, origin=\"lower\")\n",
    "plt.colorbar(label=\"Latitude\")\n",
    "plt.title(\"Latitude Grid\")\n",
    "\n",
    "plt.subplot(1, 2, 2)\n",
    "plt.imshow(plon, origin=\"lower\")\n",
    "plt.colorbar(label=\"Longitude\")\n",
    "plt.title(\"Longitude Grid\")\n",
    "\n",
    "plt.show()"
   ]
  },
  {
   "cell_type": "code",
   "execution_count": null,
   "metadata": {},
   "outputs": [],
   "source": [
    "print(np.max(plat), np.min(plat), np.max(plon), np.min(plon))"
   ]
  },
  {
   "cell_type": "code",
   "execution_count": null,
   "metadata": {},
   "outputs": [],
   "source": [
    "ds"
   ]
  },
  {
   "cell_type": "code",
   "execution_count": null,
   "metadata": {},
   "outputs": [],
   "source": [
    "ds = ds.assign_coords(lat=([\"y\", \"x\"], plat), lon=([\"y\", \"x\"], plon))\n",
    "ds"
   ]
  },
  {
   "cell_type": "code",
   "execution_count": null,
   "metadata": {},
   "outputs": [],
   "source": [
    "# latitude and longitude variables, not dimensions\n",
    "ds = standardize_variable_names(ds)\n",
    "ds"
   ]
  },
  {
   "cell_type": "code",
   "execution_count": null,
   "metadata": {},
   "outputs": [],
   "source": [
    "# Center the data\n",
    "ds.coords[\"longitude\"] = (ds.coords[\"longitude\"] + 180) % 360 - 180"
   ]
  },
  {
   "cell_type": "code",
   "execution_count": null,
   "metadata": {},
   "outputs": [],
   "source": [
    "print(\n",
    "    \"Percentage of nan values for sst: {0:.05f}\".format(\n",
    "        np.isnan(ds.sst.to_numpy()).sum() / ds.sst.size\n",
    "    )\n",
    ")"
   ]
  },
  {
   "cell_type": "code",
   "execution_count": null,
   "metadata": {},
   "outputs": [],
   "source": [
    "# Plot sea surface temperature on tripolar grid naively, using x and y\n",
    "ds.sst.isel(time=0).plot()"
   ]
  },
  {
   "cell_type": "markdown",
   "metadata": {},
   "source": [
    "When we plot using x and y, it looks like the North pole is missing, but this is just due to the tripolar projection.  \n",
    "This is where the two northern poles are, hence the singularities where the North edges of Russia and Canada are \"glued together\"."
   ]
  },
  {
   "cell_type": "code",
   "execution_count": null,
   "metadata": {},
   "outputs": [],
   "source": [
    "proj = ccrs.NearsidePerspective(\n",
    "    central_longitude=0.0, central_latitude=80.0, satellite_height=3e6\n",
    ")\n",
    "fig, ax = plt.subplots(1, figsize=(8, 4.5), dpi=96, subplot_kw={\"projection\": proj})\n",
    "\n",
    "# A temperature map\n",
    "pm0 = ax.pcolormesh(\n",
    "    plon,\n",
    "    plat,\n",
    "    ds.sst[0, :, :],\n",
    "    vmin=-3,\n",
    "    vmax=20,\n",
    "    cmap=\"viridis\",\n",
    "    transform=ccrs.PlateCarree(),\n",
    "    shading=\"auto\",\n",
    "    rasterized=True,\n",
    ")\n",
    "\n",
    "\n",
    "# Add coastlines and the lat-lon grid\n",
    "ax.coastlines(resolution=\"50m\", color=\"black\", linewidth=0.5)\n",
    "ax.stock_img()\n",
    "gl = ax.gridlines(ylocs=range(15, 76, 15), draw_labels=True)\n",
    "gl.ylocator = mpl.ticker.FixedLocator([40, 50, 60, 70, 80])\n",
    "\n",
    "plt.colorbar(pm0, fraction=0.2, shrink=0.4, label=\"degC\")\n",
    "\n",
    "ax.set_title(\"Sea Surface Temperature\")\n",
    "plt.show()"
   ]
  },
  {
   "cell_type": "code",
   "execution_count": null,
   "metadata": {},
   "outputs": [],
   "source": [
    "proj = ccrs.NearsidePerspective(\n",
    "    central_longitude=-20.0, central_latitude=55.0, satellite_height=3e6\n",
    ")\n",
    "fig, ax = plt.subplots(1, figsize=(8, 4.5), dpi=96, subplot_kw={\"projection\": proj})\n",
    "\n",
    "# A temperature map\n",
    "pm0 = ax.pcolormesh(\n",
    "    plon,\n",
    "    plat,\n",
    "    ds.sst[0, :, :],\n",
    "    vmin=-3,\n",
    "    vmax=20,\n",
    "    cmap=\"viridis\",\n",
    "    transform=ccrs.PlateCarree(),\n",
    "    shading=\"auto\",\n",
    "    rasterized=True,\n",
    ")\n",
    "\n",
    "\n",
    "# Add coastlines and the lat-lon grid\n",
    "ax.coastlines(resolution=\"50m\", color=\"black\", linewidth=0.5)\n",
    "ax.stock_img()\n",
    "gl = ax.gridlines(ylocs=range(15, 76, 15), draw_labels=True)\n",
    "gl.ylocator = mpl.ticker.FixedLocator([40, 50, 60, 70, 80])\n",
    "\n",
    "plt.colorbar(pm0, fraction=0.2, shrink=0.4, label=\"degC\")\n",
    "\n",
    "ax.set_title(\"Sea Surface Temperature\")\n",
    "plt.show()"
   ]
  },
  {
   "cell_type": "code",
   "execution_count": null,
   "metadata": {},
   "outputs": [],
   "source": [
    "del ds"
   ]
  },
  {
   "cell_type": "markdown",
   "metadata": {},
   "source": [
    "# 3. Load regridded dataset with PlateCarree grid"
   ]
  },
  {
   "cell_type": "markdown",
   "metadata": {},
   "source": [
    "This data can be regridded to PlateCarree using [cdo](https://code.mpimet.mpg.de/projects/cdo/wiki/tutorial): \n",
    "\n",
    "```console\n",
    "brew install netcdf  \n",
    "brew install nco  \n",
    "```\n",
    "\n",
    "Append (-A) the variables plat and plon from grid.nc into blom_sst.nc:  \n",
    "\n",
    "```console\n",
    "ncks -A -v plat,plon ./data/grid/grid.nc ./data/model/JRAOC20TRNRPv2_hm_sst_2010-01.nc  \n",
    "```\n",
    "\n",
    "Bilinear regridding:  \n",
    "```console\n",
    "cdo -O remapbil,global_1 ./data/model/JRAOC20TRNRPv2_hm_sst_2010-01.nc blom_sst_1x1d.nc  \n",
    "```\n",
    "\n",
    "Conservative regridding also needs corner coordinates, and we need to assign standard names to the corners. \n",
    "```console\n",
    "ncks -A -v plon,plat,pclon,pclat ./data/grid/grid.nc ./data/model/JRAOC20TRNRPv2_hm_sst_2010-01.nc\n",
    "ncdump -h ./data/model/JRAOC20TRNRPv2_hm_sst_2010-01.nc\n",
    "ncrename -v pclat,lat_bnds -v pclon,lon_bnds ./data/model/JRAOC20TRNRPv2_hm_sst_2010-01.nc\n",
    "cdo -O remapcon,global_1 ./data/model/JRAOC20TRNRPv2_hm_sst_2010-01.nc blom_sst_1x1d_conservative.nc  \n",
    "```"
   ]
  },
  {
   "cell_type": "markdown",
   "metadata": {},
   "source": [
    "# Load data regridded with bilinear interpolation"
   ]
  },
  {
   "cell_type": "code",
   "execution_count": null,
   "metadata": {},
   "outputs": [],
   "source": [
    "# This data is not uploaded to S3 yet\n",
    "# bilinear_regridded_data_path = \"s3://CS1/data/model/JRAOC20TRNRPv2_hm_sst_2010-01_bil.nc\"\n",
    "# dr = xr.open_dataset(s3.open(bilinear_regridded_data_path))\n",
    "# dr"
   ]
  },
  {
   "cell_type": "code",
   "execution_count": null,
   "metadata": {},
   "outputs": [],
   "source": [
    "local_data_path = Path(\"./CS1-nird/data/\")\n",
    "\n",
    "# Path to data regridded from tripolar to platecarree using regrid_tripolar_to_platecarree.sh\n",
    "bilinear_regridded_data_path = (\n",
    "    local_data_path / \"model\" / \"JRAOC20TRNRPv2_hm_sst_2010-01_bil.nc\"\n",
    ")\n",
    "dr = xr.open_dataset(bilinear_regridded_data_path)\n",
    "dr"
   ]
  },
  {
   "cell_type": "code",
   "execution_count": null,
   "metadata": {},
   "outputs": [],
   "source": [
    "dr = dr.rename_dims({\"lat\": \"latitude\", \"lon\": \"longitude\"})\n",
    "# dr = dr.swap_dims({\"lat\": \"latitude\", \"lon\": \"longitude\"})\n",
    "dr.latitude.attrs[\"standard_name\"] = \"latitude\"\n",
    "dr.longitude.attrs[\"standard_name\"] = \"longitude\"\n",
    "dr[[\"longitude\", \"latitude\"]].compute()\n",
    "dr = dr.rename({\"lon\": \"longitude\", \"lat\": \"latitude\"})\n",
    "# dr = dr.rename_vars({\"lon\": \"longitude\", \"lat\": \"latitude\"})"
   ]
  },
  {
   "cell_type": "code",
   "execution_count": null,
   "metadata": {},
   "outputs": [],
   "source": [
    "dr.sst.isel(time=0).plot()"
   ]
  },
  {
   "cell_type": "code",
   "execution_count": null,
   "metadata": {},
   "outputs": [],
   "source": [
    "# Have a closer look at a region of interest\n",
    "lat_min, lat_max = 40, 65\n",
    "lon_min, lon_max = -15, 30\n",
    "dr_zoomed = dr.sst.isel(time=0).sel(\n",
    "    latitude=slice(lat_min, lat_max), longitude=slice(lon_min, lon_max)\n",
    ")\n",
    "# Plot only the region\n",
    "dr_zoomed.plot()"
   ]
  },
  {
   "cell_type": "code",
   "execution_count": null,
   "metadata": {},
   "outputs": [],
   "source": [
    "# Alternative way of plotting the region of interest\n",
    "fig, ax = plt.subplots(figsize=(6, 4))\n",
    "p = dr.sst.isel(time=0).plot(ax=ax)\n",
    "\n",
    "# Set zoom limits\n",
    "ax.set_xlim(lon_min, lon_max)\n",
    "ax.set_ylim(lat_min, lat_max)\n",
    "\n",
    "plt.show()"
   ]
  },
  {
   "cell_type": "code",
   "execution_count": null,
   "metadata": {},
   "outputs": [],
   "source": [
    "proj = ccrs.NearsidePerspective(\n",
    "    central_longitude=0.0, central_latitude=80.0, satellite_height=3e6\n",
    ")\n",
    "fig, ax = plt.subplots(1, figsize=(8, 4.5), dpi=96, subplot_kw={\"projection\": proj})\n",
    "\n",
    "# A temperature map\n",
    "pm0 = ax.pcolormesh(\n",
    "    dr.longitude,\n",
    "    dr.latitude,\n",
    "    dr.sst[0, :, :],\n",
    "    vmin=-3,\n",
    "    vmax=20,\n",
    "    cmap=\"viridis\",\n",
    "    transform=ccrs.PlateCarree(),\n",
    "    shading=\"auto\",\n",
    "    rasterized=True,\n",
    ")\n",
    "\n",
    "# Add coastlines and the lat-lon grid\n",
    "ax.coastlines(resolution=\"50m\", color=\"black\", linewidth=0.5)\n",
    "ax.stock_img()\n",
    "gl = ax.gridlines(ylocs=range(15, 76, 15), draw_labels=True)\n",
    "gl.ylocator = mpl.ticker.FixedLocator([40, 50, 60, 70, 80])\n",
    "\n",
    "plt.colorbar(pm0, fraction=0.2, shrink=0.4, label=\"degC\")\n",
    "\n",
    "ax.set_title(\"Sea Surface Temperature\")\n",
    "plt.show()"
   ]
  },
  {
   "cell_type": "code",
   "execution_count": null,
   "metadata": {},
   "outputs": [],
   "source": [
    "print(\n",
    "    \"Percentage of nan values for sst: {0:.05f}\".format(\n",
    "        np.isnan(dr.sst.to_numpy()).sum() / dr.sst.size\n",
    "    )\n",
    ")"
   ]
  },
  {
   "cell_type": "markdown",
   "metadata": {},
   "source": [
    "From the above cell we see that the percentage of nan cells has gone down when regridding to the PlateCarree grid.  \n",
    "Naively, one would think that this indicates a liberal policy of how many vertices (min_vertices) are needed to assign value to a cell, and that for the purposes of this notebook, this is good because it keeps as much information as possible.  \n",
    "On second thought though, this could possibly be due to the nature of where cells are located, meaning that we do not know how the effect on the total **area** covered by nan."
   ]
  },
  {
   "cell_type": "markdown",
   "metadata": {},
   "source": [
    "Define an ocean mask using the nan values of SST:"
   ]
  },
  {
   "cell_type": "code",
   "execution_count": null,
   "metadata": {},
   "outputs": [],
   "source": [
    "ocean_mask = ~dr.sst.isel(time=0).isnull()  # Mask land as False, ocean as True"
   ]
  },
  {
   "cell_type": "markdown",
   "metadata": {},
   "source": [
    "# Load conservatively regridded"
   ]
  },
  {
   "cell_type": "code",
   "execution_count": null,
   "metadata": {},
   "outputs": [],
   "source": [
    "# This data is not uploaded to S3 yet\n",
    "# conservative_regridded_dataset_path = \"s3://CS1/data/model/JRAOC20TRNRPv2_hm_sst_2010-01_con.nc\"\n",
    "# dcon = xr.open_dataset(s3.open(conservative_regridded_dataset_path))\n",
    "# dcon\n",
    "\n",
    "# Path to data regridded from tripolar to platecarree using regrid_tripolar_to_platecarree.sh\n",
    "conservative_regridded_dataset_path = (\n",
    "    local_data_path / \"model\" / \"JRAOC20TRNRPv2_hm_sst_2010-01_con.nc\"\n",
    ")\n",
    "dcon = xr.open_dataset(conservative_regridded_dataset_path)\n",
    "dcon"
   ]
  },
  {
   "cell_type": "code",
   "execution_count": null,
   "metadata": {},
   "outputs": [],
   "source": [
    "dcon = dcon.rename_dims({\"lat\": \"latitude\", \"lon\": \"longitude\"})\n",
    "dcon.latitude.attrs[\"standard_name\"] = \"latitude\"\n",
    "dcon.longitude.attrs[\"standard_name\"] = \"longitude\"\n",
    "dcon[[\"longitude\", \"latitude\"]].compute()\n",
    "dcon = dcon.rename({\"lon\": \"longitude\", \"lat\": \"latitude\"})"
   ]
  },
  {
   "cell_type": "code",
   "execution_count": null,
   "metadata": {},
   "outputs": [],
   "source": [
    "dcon.sst.isel(time=0).plot()"
   ]
  },
  {
   "cell_type": "code",
   "execution_count": null,
   "metadata": {},
   "outputs": [],
   "source": [
    "proj = ccrs.NearsidePerspective(\n",
    "    central_longitude=0.0, central_latitude=80.0, satellite_height=3e6\n",
    ")\n",
    "fig, ax = plt.subplots(1, figsize=(8, 4.5), dpi=96, subplot_kw={\"projection\": proj})\n",
    "\n",
    "# A temperature map\n",
    "pm0 = ax.pcolormesh(\n",
    "    dcon.longitude,\n",
    "    dcon.latitude,\n",
    "    dcon.sst[0, :, :],\n",
    "    vmin=-3,\n",
    "    vmax=20,\n",
    "    cmap=\"viridis\",\n",
    "    transform=ccrs.PlateCarree(),\n",
    "    shading=\"auto\",\n",
    "    rasterized=True,\n",
    ")\n",
    "\n",
    "# Add coastlines and the lat-lon grid\n",
    "ax.coastlines(resolution=\"50m\", color=\"black\", linewidth=0.5)\n",
    "ax.stock_img()\n",
    "gl = ax.gridlines(ylocs=range(15, 76, 15), draw_labels=True)\n",
    "gl.ylocator = mpl.ticker.FixedLocator([40, 50, 60, 70, 80])\n",
    "\n",
    "plt.colorbar(pm0, fraction=0.2, shrink=0.4, label=\"degC\")\n",
    "\n",
    "ax.set_title(\"Sea Surface Temperature\")\n",
    "plt.show()"
   ]
  },
  {
   "cell_type": "code",
   "execution_count": null,
   "metadata": {},
   "outputs": [],
   "source": [
    "regrid_diff = dr - dcon\n",
    "regrid_diff"
   ]
  },
  {
   "cell_type": "code",
   "execution_count": null,
   "metadata": {},
   "outputs": [],
   "source": [
    "print(\n",
    "    np.max(regrid_diff), np.min(regrid_diff), np.max(regrid_diff), np.min(regrid_diff)\n",
    ")"
   ]
  },
  {
   "cell_type": "code",
   "execution_count": null,
   "metadata": {},
   "outputs": [],
   "source": [
    "regrid_diff.sst.isel(time=0).plot()"
   ]
  },
  {
   "cell_type": "code",
   "execution_count": null,
   "metadata": {},
   "outputs": [],
   "source": [
    "proj = ccrs.NearsidePerspective(\n",
    "    central_longitude=0.0, central_latitude=80.0, satellite_height=3e6\n",
    ")\n",
    "fig, ax = plt.subplots(1, figsize=(8, 4.5), dpi=96, subplot_kw={\"projection\": proj})\n",
    "\n",
    "# A temperature map\n",
    "pm0 = ax.pcolormesh(\n",
    "    regrid_diff.longitude,\n",
    "    regrid_diff.latitude,\n",
    "    regrid_diff.sst[0, :, :],\n",
    "    vmin=-3,\n",
    "    vmax=20,\n",
    "    cmap=\"viridis\",\n",
    "    transform=ccrs.PlateCarree(),\n",
    "    shading=\"auto\",\n",
    "    rasterized=True,\n",
    ")\n",
    "\n",
    "# Add coastlines and the lat-lon grid\n",
    "ax.coastlines(resolution=\"50m\", color=\"black\", linewidth=0.5)\n",
    "ax.stock_img()\n",
    "gl = ax.gridlines(ylocs=range(15, 76, 15), draw_labels=True)\n",
    "gl.ylocator = mpl.ticker.FixedLocator([40, 50, 60, 70, 80])\n",
    "\n",
    "plt.colorbar(pm0, fraction=0.2, shrink=0.4, label=\"degC\")\n",
    "\n",
    "ax.set_title(\"Sea Surface Temperature\")\n",
    "plt.show()"
   ]
  },
  {
   "cell_type": "markdown",
   "metadata": {},
   "source": [
    "# 4. Define target grid and regrid from PlateCarree to Healpy DGGS"
   ]
  },
  {
   "cell_type": "code",
   "execution_count": null,
   "metadata": {},
   "outputs": [],
   "source": [
    "nside = 256  # Each side of the original 12 faces in Healpix is divided into nside parts\n",
    "healpy_grid_level = int(np.log2(nside))  # Healpix level\n",
    "number_of_cells = 12 * nside**2  # The resulting total number of cells\n",
    "\n",
    "min_vertices = 2  # Minimum number of vertices for a valid transcription for regridding.\n",
    "# 1 is the most liberal, meaning that only one is needed\n",
    "\n",
    "print(\"nside:\", nside)\n",
    "print(\"Level:\", healpy_grid_level)\n",
    "print(\"Number of cells:\", number_of_cells)"
   ]
  },
  {
   "cell_type": "code",
   "execution_count": null,
   "metadata": {},
   "outputs": [],
   "source": [
    "# Perform the actual regridding\n",
    "regridded = regrid_to_dggs(\n",
    "    dcon, nside, min_vertices, method=\"bilinear\", mask=ocean_mask\n",
    ")"
   ]
  },
  {
   "cell_type": "code",
   "execution_count": null,
   "metadata": {},
   "outputs": [],
   "source": [
    "ds_regridded = regridded.sst.compute().squeeze()"
   ]
  },
  {
   "cell_type": "code",
   "execution_count": null,
   "metadata": {},
   "outputs": [],
   "source": [
    "ds_regridded.dggs.explore()"
   ]
  },
  {
   "cell_type": "markdown",
   "metadata": {},
   "source": [
    "# 5. Save the regridded data to zarr"
   ]
  },
  {
   "cell_type": "code",
   "execution_count": null,
   "metadata": {},
   "outputs": [],
   "source": [
    "save_location = Path(\"./data/\") / f\"SST-healpix-lvl-{healpy_grid_level}.zarr\"\n",
    "ds_regridded.to_zarr(save_location, mode=\"w\")"
   ]
  }
 ],
 "metadata": {
  "kernelspec": {
   "display_name": "esmpy-env",
   "language": "python",
   "name": "python3"
  },
  "language_info": {
   "codemirror_mode": {
    "name": "ipython",
    "version": 3
   },
   "file_extension": ".py",
   "mimetype": "text/x-python",
   "name": "python",
   "nbconvert_exporter": "python",
   "pygments_lexer": "ipython3",
   "version": "3.11.11"
  }
 },
 "nbformat": 4,
 "nbformat_minor": 2
}

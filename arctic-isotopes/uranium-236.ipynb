{
 "cells": [
  {
   "cell_type": "markdown",
   "metadata": {},
   "source": [
    "# Regridding simulated spread of Uranium 236\n",
    "\n",
    "## Description\n",
    "The data has been provided by NorESM, on a tripolar grid (\"ds_hague\" and \"ds\" datasets in this notebook).  \n",
    "To arrive at a DGGS grid, the data has first been regridded from tripolar to PlateCarree grid (\"dr\" dataset in this notebook) using cdo:  \n",
    "\n",
    "```console\n",
    "brew install netcdf  \n",
    "brew install nco  \n",
    "```\n",
    "\n",
    "Append (-A) the variables plat and plon from grid.nc into U236LH.nc:  \n",
    "\n",
    "```console\n",
    "ncks -A -v plat,plon ./data/grid/grid.nc ./data/model/JRAOC20TRNRPv2_hm_U236LH_2010-2018.nc  \n",
    "```\n",
    "\n",
    "Bilinear regridding:  \n",
    "```console\n",
    "cdo -O remapbil,global_1 ./data/model/JRAOC20TRNRPv2_hm_U236LH_2010-2018.nc U236LH_1x1d_bilinear.nc  \n",
    "```\n",
    "\n",
    "Different sources/scenarios of Uranium 236 spread are simulated: \n",
    "- Global fallout (GF)  \n",
    "- Sellafield (SF)  \n",
    "- La Hague (LH)  \n",
    "\n",
    "### This notebook step by step:\n",
    "1. Load required libraries\n",
    "2. Load Uranium 236 data on tripolar grid and visualize\n",
    "3. Load regridded dataset (PlateCarree grid)\n",
    "4. Define DGGS target grid and regrid from PlateCarree to DGGS\n",
    "5. Save the regridded data to zarr\n",
    "\n",
    "## Contributions\n",
    "- Even Moa Myklebust, Simula Research Laboratory (Norway) (author), @evenmm\n",
    "\n",
    "## Bibliography and other interesting resources\n",
    "- [The Norwegian Earth System Model (NorESM)](https://noresm-docs.readthedocs.io/en/latest/)\n",
    "- [An introduction to NorESM model output and post-processing](https://nordicesmhub.github.io/noresmdiagnostics/)"
   ]
  },
  {
   "cell_type": "code",
   "execution_count": null,
   "metadata": {},
   "outputs": [],
   "source": [
    "# Install xarray-healpy and dggs libraries for regridding\n",
    "%pip install git+https://github.com/IAOCEA/xarray-healpy.git git+https://github.com/xarray-contrib/xdggs.git"
   ]
  },
  {
   "cell_type": "code",
   "execution_count": null,
   "metadata": {},
   "outputs": [],
   "source": [
    "import warnings\n",
    "from pathlib import Path\n",
    "\n",
    "import cartopy.crs as ccrs  # Map projections\n",
    "import matplotlib as mpl\n",
    "import matplotlib.pyplot as plt\n",
    "import numpy as np\n",
    "import xarray as xr  # N-dimensional arrays with dimension, coordinate and attribute labels\n",
    "\n",
    "# Local imports\n",
    "from data_handling import load_grid_vertex, regrid_to_dggs, standardize_variable_names\n",
    "\n",
    "warnings.simplefilter(\"ignore\", category=DeprecationWarning)\n",
    "xr.set_options(display_expand_data=False, display_expand_attrs=False, keep_attrs=True)"
   ]
  },
  {
   "cell_type": "code",
   "execution_count": null,
   "metadata": {},
   "outputs": [],
   "source": [
    "# Get grid location information\n",
    "data_path = Path(\"./CS1-nird/data/\")\n",
    "grid_path = data_path / \"grid\" / \"grid.nc\"\n",
    "plat, plon, pclat, pclon = load_grid_vertex(grid_path)"
   ]
  },
  {
   "cell_type": "markdown",
   "metadata": {},
   "source": [
    "## Uranium 236 from La Hague (ds_hague) on tripolar grid"
   ]
  },
  {
   "cell_type": "code",
   "execution_count": null,
   "metadata": {},
   "outputs": [],
   "source": [
    "# Open and look at tripolar data from source grid\n",
    "la_hague_dataset_path = data_path / \"model\" / \"JRAOC20TRNRPv2_hm_U236LH_2010-2018.nc\"\n",
    "ds_hague = xr.open_dataset(la_hague_dataset_path)"
   ]
  },
  {
   "cell_type": "code",
   "execution_count": null,
   "metadata": {},
   "outputs": [],
   "source": [
    "# Plot on tripolar grid naively using x and y\n",
    "# Sigma refers to vertical level in the Sigma coordinate system\n",
    "ds_hague.U236LH.isel(time=100, sigma=0).plot()"
   ]
  },
  {
   "cell_type": "markdown",
   "metadata": {},
   "source": [
    "## Uranium 236 from Global fallout (ds) on tripolar grid"
   ]
  },
  {
   "cell_type": "code",
   "execution_count": null,
   "metadata": {},
   "outputs": [],
   "source": [
    "global_fallout_dataset_path = (\n",
    "    data_path / \"model\" / \"JRAOC20TRNRPv2_hm_U236GF_2010-2018.nc\"\n",
    ")\n",
    "ds = xr.open_dataset(global_fallout_dataset_path)\n",
    "ds"
   ]
  },
  {
   "cell_type": "code",
   "execution_count": null,
   "metadata": {},
   "outputs": [],
   "source": [
    "# Plot U236GF on tripolar grid naively, using x and y\n",
    "ds.U236GF.isel(time=100, sigma=0).plot()"
   ]
  },
  {
   "cell_type": "code",
   "execution_count": null,
   "metadata": {},
   "outputs": [],
   "source": [
    "# Use grid.nc to define latitude and longitude\n",
    "ds = ds.assign_coords(lat=([\"y\", \"x\"], plat), lon=([\"y\", \"x\"], plon))"
   ]
  },
  {
   "cell_type": "code",
   "execution_count": null,
   "metadata": {},
   "outputs": [],
   "source": [
    "# Standardize variable names\n",
    "ds = standardize_variable_names(ds)\n",
    "ds"
   ]
  },
  {
   "cell_type": "code",
   "execution_count": null,
   "metadata": {},
   "outputs": [],
   "source": [
    "proj = ccrs.NearsidePerspective(\n",
    "    central_longitude=0.0, central_latitude=80.0, satellite_height=3e6\n",
    ")\n",
    "fig, ax = plt.subplots(1, figsize=(8, 4.5), dpi=96, subplot_kw={\"projection\": proj})\n",
    "\n",
    "# A temperature map\n",
    "pm0 = ax.pcolormesh(\n",
    "    plon,\n",
    "    plat,\n",
    "    ds.U236GF[0, 0, :, :],\n",
    "    # vmin=0,\n",
    "    # vmax=20,\n",
    "    cmap=\"viridis\",\n",
    "    transform=ccrs.PlateCarree(),\n",
    "    shading=\"auto\",\n",
    "    rasterized=True,\n",
    ")\n",
    "\n",
    "# Add coastlines and the lat-lon grid\n",
    "ax.coastlines(resolution=\"50m\", color=\"black\", linewidth=0.5)\n",
    "ax.stock_img()\n",
    "gl = ax.gridlines(ylocs=range(15, 76, 15), draw_labels=True)\n",
    "gl.ylocator = mpl.ticker.FixedLocator([40, 50, 60, 70, 80])\n",
    "\n",
    "plt.colorbar(pm0, fraction=0.2, shrink=0.4, label=\"kg-1\")\n",
    "\n",
    "ax.set_title(\"Global Fallout Uranium 236\")\n",
    "plt.show()"
   ]
  },
  {
   "cell_type": "markdown",
   "metadata": {},
   "source": [
    "# Regridded to PlateCaree: Uranium 236 from Global fallout (dr)"
   ]
  },
  {
   "cell_type": "code",
   "execution_count": null,
   "metadata": {},
   "outputs": [],
   "source": [
    "# regridded_dataset_path = data_path / \"U236GF_1x1d_bilinear.nc\"\n",
    "# regridded_dataset_path = data_path / \"JRAOC20TRNRPv2_hm_U236GF_2010-2018_1x1d_bil.nc\"\n",
    "regridded_dataset_path = (\n",
    "    data_path / \"model\" / \"JRAOC20TRNRPv2_hm_U236GF_2010-2018_bil.nc\"\n",
    ")\n",
    "\n",
    "dr = xr.open_dataset(regridded_dataset_path)\n",
    "dr"
   ]
  },
  {
   "cell_type": "code",
   "execution_count": null,
   "metadata": {},
   "outputs": [],
   "source": [
    "dr = dr.rename_dims({\"lat\": \"latitude\", \"lon\": \"longitude\"})\n",
    "dr.latitude.attrs[\"standard_name\"] = \"latitude\"\n",
    "dr.longitude.attrs[\"standard_name\"] = \"longitude\"\n",
    "dr[[\"longitude\", \"latitude\"]].compute()\n",
    "dr = dr.rename({\"lon\": \"longitude\", \"lat\": \"latitude\"})"
   ]
  },
  {
   "cell_type": "code",
   "execution_count": null,
   "metadata": {},
   "outputs": [],
   "source": [
    "# Bilinear regridding\n",
    "dr.U236GF.isel(time=0, sigma=0).plot()"
   ]
  },
  {
   "cell_type": "code",
   "execution_count": null,
   "metadata": {},
   "outputs": [],
   "source": [
    "# On the regridded data, we can plot parts of it like this:\n",
    "\n",
    "# Define zoomed-in region (adjust as needed)\n",
    "lat_min, lat_max = 40, 65  # Example range\n",
    "lon_min, lon_max = -15, 30\n",
    "\n",
    "# Select only the region of interest\n",
    "dr_zoomed = dr.U236GF.isel(time=0, sigma=0).sel(\n",
    "    latitude=slice(lat_min, lat_max), longitude=slice(lon_min, lon_max)\n",
    ")\n",
    "\n",
    "# Plot the zoomed-in region\n",
    "dr_zoomed.plot()"
   ]
  },
  {
   "cell_type": "code",
   "execution_count": null,
   "metadata": {},
   "outputs": [],
   "source": [
    "# Get grid location information\n",
    "grid_path = data_path / \"grid\" / \"grid.nc\"\n",
    "plat, plon, pclat, pclon = load_grid_vertex(grid_path)"
   ]
  },
  {
   "cell_type": "markdown",
   "metadata": {},
   "source": [
    "# Conservative "
   ]
  },
  {
   "cell_type": "code",
   "execution_count": null,
   "metadata": {},
   "outputs": [],
   "source": [
    "conservative_regridded_dataset_path = (\n",
    "    # data_path / \"model\" / \"JRAOC20TRNRPv2_hm_U236GF_2010-2018_1x1d_con.nc\"\n",
    "    data_path\n",
    "    / \"model\"\n",
    "    / \"JRAOC20TRNRPv2_hm_U236GF_2010-2018_con.nc\"\n",
    ")\n",
    "dcon = xr.open_dataset(conservative_regridded_dataset_path)\n",
    "dcon"
   ]
  },
  {
   "cell_type": "code",
   "execution_count": null,
   "metadata": {},
   "outputs": [],
   "source": [
    "dcon = dcon.rename_dims({\"lat\": \"latitude\", \"lon\": \"longitude\"})\n",
    "dcon.latitude.attrs[\"standard_name\"] = \"latitude\"\n",
    "dcon.longitude.attrs[\"standard_name\"] = \"longitude\"\n",
    "dcon[[\"longitude\", \"latitude\"]].compute()\n",
    "dcon = dcon.rename_vars({\"lon\": \"longitude\", \"lat\": \"latitude\"})"
   ]
  },
  {
   "cell_type": "code",
   "execution_count": null,
   "metadata": {},
   "outputs": [],
   "source": [
    "# Conservative regridding\n",
    "dcon.U236GF.isel(time=0, sigma=0).plot()"
   ]
  },
  {
   "cell_type": "code",
   "execution_count": null,
   "metadata": {},
   "outputs": [],
   "source": [
    "regrid_diff = dr - dcon\n",
    "regrid_diff"
   ]
  },
  {
   "cell_type": "code",
   "execution_count": null,
   "metadata": {},
   "outputs": [],
   "source": [
    "print(\n",
    "    np.max(regrid_diff), np.min(regrid_diff), np.max(regrid_diff), np.min(regrid_diff)\n",
    ")"
   ]
  },
  {
   "cell_type": "code",
   "execution_count": null,
   "metadata": {},
   "outputs": [],
   "source": [
    "regrid_diff.U236GF.isel(time=0, sigma=0).plot()"
   ]
  },
  {
   "cell_type": "markdown",
   "metadata": {},
   "source": [
    "# Regrid to DGGS"
   ]
  },
  {
   "cell_type": "code",
   "execution_count": null,
   "metadata": {},
   "outputs": [],
   "source": [
    "nside = (\n",
    "    32  # 16 # Each side of the original 12 faces in Healpix is divided into nside parts\n",
    ")\n",
    "healpy_grid_level = int(np.log2(nside))  # Healpix level\n",
    "number_of_cells = 12 * nside**2  # The resulting total number of cells\n",
    "\n",
    "min_vertices = 1  # Minimum number of vertices for a valid transcription for regridding.\n",
    "# 1 is the most liberal, meaning that only one is needed\n",
    "\n",
    "print(\"nside:\", nside)\n",
    "print(\"Level:\", healpy_grid_level)\n",
    "print(\"Number of cells:\", number_of_cells)"
   ]
  },
  {
   "cell_type": "code",
   "execution_count": null,
   "metadata": {},
   "outputs": [],
   "source": [
    "# Perform the actual regridding\n",
    "# regridded = regrid_to_dggs(dr, nside, min_vertices, method=\"bilinear\", mask=None)\n",
    "regridded = regrid_to_dggs(dcon, nside, min_vertices, method=\"bilinear\", mask=None)"
   ]
  },
  {
   "cell_type": "code",
   "execution_count": null,
   "metadata": {},
   "outputs": [],
   "source": [
    "# Compute to be able to visualize it\n",
    "ds_regridded = regridded.U236GF.compute().squeeze()"
   ]
  },
  {
   "cell_type": "code",
   "execution_count": null,
   "metadata": {},
   "outputs": [],
   "source": [
    "# Visualize\n",
    "ds_regridded.dggs.explore()"
   ]
  },
  {
   "cell_type": "markdown",
   "metadata": {},
   "source": [
    "# 5. Save the regridded data to zarr"
   ]
  },
  {
   "cell_type": "code",
   "execution_count": null,
   "metadata": {},
   "outputs": [],
   "source": [
    "save_location = data_path / f\"U236GF-healpix-lvl-{healpy_grid_level}.zarr\"\n",
    "ds_regridded.to_zarr(save_location, mode=\"w\")"
   ]
  }
 ],
 "metadata": {
  "kernelspec": {
   "display_name": "Python 3 (ipykernel)",
   "language": "python",
   "name": "python3"
  },
  "language_info": {
   "codemirror_mode": {
    "name": "ipython",
    "version": 3
   },
   "file_extension": ".py",
   "mimetype": "text/x-python",
   "name": "python",
   "nbconvert_exporter": "python",
   "pygments_lexer": "ipython3",
   "version": "3.13.1"
  }
 },
 "nbformat": 4,
 "nbformat_minor": 4
}
